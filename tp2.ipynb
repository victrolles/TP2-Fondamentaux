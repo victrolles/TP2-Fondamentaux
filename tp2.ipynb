{
 "cells": [
  {
   "cell_type": "markdown",
   "metadata": {},
   "source": [
    "# TP2 - Fondamentaux de l'apprentissage automatique"
   ]
  },
  {
   "cell_type": "markdown",
   "metadata": {},
   "source": [
    "Executed on Colab"
   ]
  },
  {
   "cell_type": "markdown",
   "metadata": {},
   "source": [
    "## Pre-execution"
   ]
  },
  {
   "cell_type": "markdown",
   "metadata": {},
   "source": [
    "### Verify GPU is available"
   ]
  },
  {
   "cell_type": "code",
   "execution_count": null,
   "metadata": {},
   "outputs": [],
   "source": [
    "!nvidia-smi"
   ]
  },
  {
   "cell_type": "markdown",
   "metadata": {},
   "source": [
    "### pip installation"
   ]
  },
  {
   "cell_type": "code",
   "execution_count": null,
   "metadata": {
    "colab": {
     "base_uri": "https://localhost:8080/"
    },
    "id": "x6346zLI0-xg",
    "outputId": "ccafec7b-84ee-4fdb-a41d-bcf6b81f158d"
   },
   "outputs": [],
   "source": [
    "!pip install umap-learn"
   ]
  },
  {
   "cell_type": "code",
   "execution_count": null,
   "metadata": {},
   "outputs": [],
   "source": [
    "!pip install \\\n",
    "    --extra-index-url=https://pypi.nvidia.com \\\n",
    "    cudf-cu12==24.10.* dask-cudf-cu12==24.10.* cuml-cu12==24.10.* \\\n",
    "    cugraph-cu12==24.10.* nx-cugraph-cu12==24.10.* cuspatial-cu12==24.10.* \\\n",
    "    cuproj-cu12==24.10.* cuxfilter-cu12==24.10.* cucim-cu12==24.10.* \\\n",
    "    pylibraft-cu12==24.10.* raft-dask-cu12==24.10.* cuvs-cu12==24.10.* \\\n",
    "    nx-cugraph-cu12==24.10.*"
   ]
  },
  {
   "cell_type": "markdown",
   "metadata": {
    "id": "3K0jVujR07rX"
   },
   "source": [
    "### Imports"
   ]
  },
  {
   "cell_type": "code",
   "execution_count": null,
   "metadata": {
    "id": "tnSWo9Es07ra"
   },
   "outputs": [],
   "source": [
    "from time import time\n",
    "import pandas as pd\n",
    "import matplotlib.pyplot as plt\n",
    "from matplotlib.colors import ListedColormap\n",
    "from sklearn.model_selection import train_test_split\n",
    "from sklearn.preprocessing import StandardScaler\n",
    "from sklearn.metrics import accuracy_score, f1_score, classification_report\n",
    "from imblearn.under_sampling import RandomUnderSampler\n",
    "from imblearn.over_sampling import SMOTE\n",
    "\n",
    "# Only CPU\n",
    "from sklearn.ensemble import RandomForestClassifier as RFC\n",
    "\n",
    "# GPU-accelerated\n",
    "from cuml.manifold import TSNE as cumlTSNE\n",
    "from cuml.manifold import UMAP as cumlUMAP\n",
    "\n"
   ]
  },
  {
   "cell_type": "markdown",
   "metadata": {
    "id": "M6AjYK_u07rd"
   },
   "source": [
    "### Load datas"
   ]
  },
  {
   "cell_type": "code",
   "execution_count": null,
   "metadata": {
    "colab": {
     "base_uri": "https://localhost:8080/"
    },
    "id": "Mdo1Ft-007rd",
    "outputId": "768b6f11-d87b-4d06-b92d-b7574e68f686"
   },
   "outputs": [],
   "source": [
    "print(\"1. Chargement des données...\")\n",
    "columns = [\n",
    "    \"Elevation\",\n",
    "    \"Aspect\",\n",
    "    \"Slope\",\n",
    "    \"Horizontal_Distance_To_Hydrology\",\n",
    "    \"Vertical_Distance_To_Hydrology\",\n",
    "    \"Horizontal_Distance_To_Roadways\",\n",
    "    \"Hillshade_9am\",\n",
    "    \"Hillshade_Noon\",\n",
    "    \"Hillshade_3pm\",\n",
    "    \"Horizontal_Distance_To_Fire_Points\",\n",
    "    \"Wilderness_Area1\",\n",
    "    *[f\"Soil_Type_{i}\" for i in range(1, 40)],\n",
    "    \"Cover_Type\"\n",
    "]\n",
    "\n",
    "print(columns)\n",
    "\n",
    "data = pd.read_csv('https://archive.ics.uci.edu/ml/machine-learning-databases/covtype/covtype.data.gz', header=None, names=columns)"
   ]
  },
  {
   "cell_type": "markdown",
   "metadata": {
    "id": "81fTL9Eg07rd"
   },
   "source": [
    "### Split datas"
   ]
  },
  {
   "cell_type": "code",
   "execution_count": null,
   "metadata": {
    "id": "0p1T79VL07re"
   },
   "outputs": [],
   "source": [
    "X=data.drop('Cover_Type', axis=1)\n",
    "y=data['Cover_Type']\n",
    "\n",
    "# Diviser les données\n",
    "X_train, X_test, y_train, y_test = train_test_split(X, y, test_size=0.2, random_state=42)"
   ]
  },
  {
   "cell_type": "markdown",
   "metadata": {
    "id": "hvT2WBQy07re"
   },
   "source": [
    "### Standardize datas"
   ]
  },
  {
   "cell_type": "code",
   "execution_count": null,
   "metadata": {
    "id": "ABX92BVt07rf"
   },
   "outputs": [],
   "source": [
    "# Standardiser les données\n",
    "scaler = StandardScaler()\n",
    "X_train_scaled = scaler.fit_transform(X_train)\n",
    "X_test_scaled = scaler.transform(X_test)"
   ]
  },
  {
   "cell_type": "markdown",
   "metadata": {
    "id": "N91qZSFV07rf"
   },
   "source": [
    "### Fonctions"
   ]
  },
  {
   "cell_type": "code",
   "execution_count": null,
   "metadata": {
    "id": "LIp3AbU-07rf"
   },
   "outputs": [],
   "source": [
    "custom_cmap = ListedColormap(plt.cm.tab10.colors[:7])\n",
    "\n",
    "# Fonction de visualisation\n",
    "def visualize_embeddings(X, y, title):\n",
    "    plt.figure(figsize=(10, 8))\n",
    "    plt.scatter(X[:, 0], X[:, 1], c=y, cmap=custom_cmap, s=1)\n",
    "    plt.colorbar()\n",
    "    plt.title(title)\n",
    "    plt.show()"
   ]
  },
  {
   "cell_type": "code",
   "execution_count": null,
   "metadata": {},
   "outputs": [],
   "source": [
    "# Function to evaluate the model\n",
    "def evaluate(rfc, X_test, y_test):\n",
    "\n",
    "    y_pred = rfc.predict(X_test)\n",
    "    accuracy = accuracy_score(y_test, y_pred)\n",
    "    f1 = f1_score(y_test, y_pred, average='weighted')\n",
    "\n",
    "    print(f\"Accuracy: {accuracy:.4f}\")\n",
    "    print(f\"F1-Score: {f1:.4f}\")\n",
    "    print(\"\\nRapport de classification:\")\n",
    "    print(classification_report(y_test, y_pred))"
   ]
  },
  {
   "cell_type": "code",
   "execution_count": null,
   "metadata": {},
   "outputs": [],
   "source": [
    "# convert second to mm:ss\n",
    "\n",
    "def convert(seconds):\n",
    "    minutes = seconds // 60\n",
    "    seconds %= 60\n",
    "    return \"%02d:%02d\" % (minutes, seconds)"
   ]
  },
  {
   "cell_type": "markdown",
   "metadata": {
    "id": "UFSBMbz107rg"
   },
   "source": [
    "## Computing"
   ]
  },
  {
   "cell_type": "code",
   "execution_count": null,
   "metadata": {},
   "outputs": [],
   "source": [
    "# Get reduced datasets\n",
    "print(\"2. Réduction de la dimensionnalité...\")\n",
    "is_reduced = True\n",
    "\n",
    "if is_reduced:\n",
    "    n = 500\n",
    "\n",
    "    X_train_scaled = X_train_scaled[:n]\n",
    "    y_train = y_train[:n]"
   ]
  },
  {
   "cell_type": "markdown",
   "metadata": {},
   "source": [
    "### No Sampling"
   ]
  },
  {
   "cell_type": "code",
   "execution_count": null,
   "metadata": {
    "colab": {
     "base_uri": "https://localhost:8080/",
     "height": 734
    },
    "id": "qae2mqZ707rh",
    "outputId": "64d9356f-ef8e-4c7f-8e76-4f3a2188e8e4"
   },
   "outputs": [],
   "source": [
    "# Compute T-SNE (GPU)\n",
    "\n",
    "time_tsne_no_sampling = time()\n",
    "\n",
    "tsne_no_sampling = cumlTSNE(n_components=2, random_state=42)\n",
    "X_tsne_no_sampling = tsne_no_sampling.fit_transform(X_train_scaled)\n",
    "\n",
    "time_tsne_no_sampling = time() - time_tsne_no_sampling\n"
   ]
  },
  {
   "cell_type": "code",
   "execution_count": null,
   "metadata": {},
   "outputs": [],
   "source": [
    "# Compute UMAP (GPU)\n",
    "\n",
    "time_umap_no_sampling = time()\n",
    "\n",
    "umap_no_sampling = cumlUMAP(n_components=2, random_state=42)\n",
    "X_umap_no_sampling = umap_no_sampling.fit_transform(X_train_scaled)\n",
    "\n",
    "time_umap_no_sampling = time() - time_umap_no_sampling"
   ]
  },
  {
   "cell_type": "code",
   "execution_count": null,
   "metadata": {},
   "outputs": [],
   "source": [
    "# Compute Random Forest Classifier (GPU)\n",
    "\n",
    "time_rfc_no_sampling = time()\n",
    "\n",
    "rfc_no_sampling = RFC(n_estimators=100, random_state=42)\n",
    "rfc_no_sampling.fit(X_train_scaled, y_train)\n",
    "\n",
    "time_rfc_no_sampling = time() - time_rfc_no_sampling"
   ]
  },
  {
   "cell_type": "markdown",
   "metadata": {},
   "source": [
    "### Under Sampling"
   ]
  },
  {
   "cell_type": "code",
   "execution_count": null,
   "metadata": {},
   "outputs": [],
   "source": [
    "rus = RandomUnderSampler(random_state=42)\n",
    "X_train_scaled_under, y_train_under = rus.fit_resample(X_train_scaled, y_train)"
   ]
  },
  {
   "cell_type": "code",
   "execution_count": null,
   "metadata": {},
   "outputs": [],
   "source": [
    "# Compute T-SNE (GPU)\n",
    "\n",
    "time_tsne_under_sampling = time()\n",
    "\n",
    "tsne_under_sampling = cumlTSNE(n_components=2, random_state=42)\n",
    "X_tsne_under_sampling = tsne_under_sampling.fit_transform(X_train_scaled_under)\n",
    "\n",
    "time_tsne_under_sampling = time() - time_tsne_under_sampling"
   ]
  },
  {
   "cell_type": "code",
   "execution_count": null,
   "metadata": {},
   "outputs": [],
   "source": [
    "# Compute UMAP (GPU)\n",
    "\n",
    "time_umap_under_sampling = time()\n",
    "\n",
    "umap_under_sampling = cumlUMAP(n_components=2, random_state=42)\n",
    "X_umap_under_sampling = umap_under_sampling.fit_transform(X_train_scaled_under)\n",
    "\n",
    "time_umap_under_sampling = time() - time_umap_under_sampling"
   ]
  },
  {
   "cell_type": "code",
   "execution_count": null,
   "metadata": {},
   "outputs": [],
   "source": [
    "# Compute Random Forest Classifier (GPU)\n",
    "\n",
    "time_rfc_under_sampling = time()\n",
    "\n",
    "rfc_under_sampling = RFC(n_estimators=100, random_state=42)\n",
    "rfc_under_sampling.fit(X_train_scaled_under, y_train_under)\n",
    "\n",
    "time_rfc_under_sampling = time() - time_rfc_under_sampling"
   ]
  },
  {
   "cell_type": "markdown",
   "metadata": {},
   "source": [
    "### Over Sampling"
   ]
  },
  {
   "cell_type": "code",
   "execution_count": null,
   "metadata": {},
   "outputs": [],
   "source": [
    "smote = SMOTE(random_state=42)\n",
    "X_train_scaled_over, y_train_over = smote.fit_resample(X_train_scaled, y_train)"
   ]
  },
  {
   "cell_type": "code",
   "execution_count": null,
   "metadata": {},
   "outputs": [],
   "source": [
    "# Compute T-SNE (GPU)\n",
    "\n",
    "time_tsne_over_sampling = time()\n",
    "\n",
    "tsne_over_sampling = cumlTSNE(n_components=2, random_state=42)\n",
    "X_tsne_over_sampling = tsne_over_sampling.fit_transform(X_train_scaled_over)\n",
    "\n",
    "time_tsne_over_sampling = time() - time_tsne_over_sampling"
   ]
  },
  {
   "cell_type": "code",
   "execution_count": null,
   "metadata": {},
   "outputs": [],
   "source": [
    "# Compute UMAP (GPU)\n",
    "\n",
    "time_umap_over_sampling = time()\n",
    "\n",
    "umap_over_sampling = cumlUMAP(n_components=2, random_state=42)\n",
    "X_umap_over_sampling = umap_over_sampling.fit_transform(X_train_scaled_over)\n",
    "\n",
    "time_umap_over_sampling = time() - time_umap_over_sampling"
   ]
  },
  {
   "cell_type": "code",
   "execution_count": null,
   "metadata": {},
   "outputs": [],
   "source": [
    "# Compute Random Forest Classifier (GPU)\n",
    "\n",
    "time_rfc_over_sampling = time()\n",
    "\n",
    "rfc_over_sampling = RFC(n_estimators=100, random_state=42)\n",
    "rfc_over_sampling.fit(X_train_scaled_over, y_train_over)\n",
    "\n",
    "time_rfc_over_sampling = time() - time_rfc_over_sampling"
   ]
  },
  {
   "cell_type": "markdown",
   "metadata": {
    "id": "XfVZwCliSSFO"
   },
   "source": [
    "## Results"
   ]
  },
  {
   "cell_type": "markdown",
   "metadata": {},
   "source": [
    "### Speed comparison"
   ]
  },
  {
   "cell_type": "code",
   "execution_count": null,
   "metadata": {},
   "outputs": [],
   "source": [
    "print(\"---- No Sampling ----\")\n",
    "print(f\"TSNE: {convert(time_tsne_no_sampling)}\")\n",
    "print(f\"UMAP: {convert(time_umap_no_sampling)}\")\n",
    "print(f\"RFC: {convert(time_rfc_no_sampling)}\")\n",
    "print(\"---- Under Sampling ----\")\n",
    "print(f\"TSNE: {convert(time_tsne_under_sampling)}\")\n",
    "print(f\"UMAP: {convert(time_umap_under_sampling)}\")\n",
    "print(f\"RFC: {convert(time_rfc_under_sampling)}\")\n",
    "print(\"---- Over Sampling ----\")\n",
    "print(f\"TSNE: {convert(time_tsne_over_sampling)}\")\n",
    "print(f\"UMAP: {convert(time_umap_over_sampling)}\")\n",
    "print(f\"RFC: {convert(time_rfc_over_sampling)}\")"
   ]
  },
  {
   "cell_type": "markdown",
   "metadata": {},
   "source": [
    "### No Sampling"
   ]
  },
  {
   "cell_type": "code",
   "execution_count": null,
   "metadata": {},
   "outputs": [],
   "source": [
    "visualize_embeddings(X_tsne_no_sampling, y_train, \"T-SNE (No Sampling)\")\n",
    "visualize_embeddings(X_umap_no_sampling, y_train, \"UMAP (No Sampling)\")\n",
    "evaluate(rfc_no_sampling, X_test_scaled, y_test)"
   ]
  },
  {
   "cell_type": "markdown",
   "metadata": {},
   "source": [
    "### Under Sampling"
   ]
  },
  {
   "cell_type": "code",
   "execution_count": null,
   "metadata": {},
   "outputs": [],
   "source": [
    "visualize_embeddings(X_tsne_under_sampling, y_train_under, \"T-SNE (Under Sampling)\")\n",
    "visualize_embeddings(X_umap_under_sampling, y_train_under, \"UMAP (Under Sampling)\")\n",
    "evaluate(rfc_under_sampling, X_test_scaled, y_test)"
   ]
  },
  {
   "cell_type": "markdown",
   "metadata": {},
   "source": [
    "### Over Sampling"
   ]
  },
  {
   "cell_type": "code",
   "execution_count": null,
   "metadata": {},
   "outputs": [],
   "source": [
    "visualize_embeddings(X_tsne_over_sampling, y_train_over, \"T-SNE (Over Sampling)\")\n",
    "visualize_embeddings(X_umap_over_sampling, y_train_over, \"UMAP (Over Sampling)\")\n",
    "evaluate(rfc_over_sampling, X_test_scaled, y_test)"
   ]
  }
 ],
 "metadata": {
  "accelerator": "GPU",
  "colab": {
   "gpuType": "T4",
   "provenance": []
  },
  "kernelspec": {
   "display_name": "Python 3",
   "name": "python3"
  },
  "language_info": {
   "codemirror_mode": {
    "name": "ipython",
    "version": 3
   },
   "file_extension": ".py",
   "mimetype": "text/x-python",
   "name": "python",
   "nbconvert_exporter": "python",
   "pygments_lexer": "ipython3",
   "version": "3.12.2"
  }
 },
 "nbformat": 4,
 "nbformat_minor": 0
}
